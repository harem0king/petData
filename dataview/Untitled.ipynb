{
 "cells": [
  {
   "cell_type": "code",
   "execution_count": 1,
   "id": "540fdbc5-436e-4e9c-bfaa-f20f4924a999",
   "metadata": {},
   "outputs": [
    {
     "name": "stdout",
     "output_type": "stream",
     "text": [
      "Lỗi khi đọc final_merged_data.parquet: Unable to find a usable engine; tried using: 'pyarrow', 'fastparquet'.\n",
      "A suitable version of pyarrow or fastparquet is required for parquet support.\n",
      "Trying to import the above resulted in these errors:\n",
      " - Missing optional dependency 'pyarrow'. pyarrow is required for parquet support. Use pip or conda to install pyarrow.\n",
      " - Missing optional dependency 'fastparquet'. fastparquet is required for parquet support. Use pip or conda to install fastparquet.\n",
      "\n",
      "Không tìm thấy file CSV trong thư mục ./pet_anomalies/. Đảm bảo bạn đã tải đúng.\n"
     ]
    }
   ],
   "source": [
    "# Import các thư viện cần thiết\n",
    "import pandas as pd\n",
    "import matplotlib.pyplot as plt\n",
    "import seaborn as sns\n",
    "\n",
    "# Thiết lập một số cài đặt hiển thị cho Matplotlib và Seaborn để biểu đồ đẹp hơn\n",
    "sns.set_theme(style=\"whitegrid\")\n",
    "plt.rcParams['figure.figsize'] = (12, 7) # Kích thước biểu đồ mặc định\n",
    "plt.rcParams['font.size'] = 12 # Kích thước font mặc định\n",
    "\n",
    "# --- Bước 1: Đọc dữ liệu đã được xử lý từ các file cục bộ ---\n",
    "# Nhớ thay đổi đường dẫn nếu bạn lưu ở nơi khác!\n",
    "\n",
    "# Đọc file dữ liệu chính đã gộp (final_merged_data.parquet)\n",
    "# Spark lưu Parquet dưới dạng thư mục, nên bạn chỉ cần trỏ đến thư mục đó\n",
    "try:\n",
    "    df_merged_local = pd.read_parquet('./final_merged_data.parquet')\n",
    "    print(\"Đã đọc thành công df_merged_local.\")\n",
    "    print(\"5 dòng đầu tiên của df_merged_local:\")\n",
    "    print(df_merged_local.head())\n",
    "    print(\"\\nThông tin về các cột và kiểu dữ liệu:\")\n",
    "    df_merged_local.info()\n",
    "except Exception as e:\n",
    "    print(f\"Lỗi khi đọc final_merged_data.parquet: {e}\")\n",
    "    df_merged_local = pd.DataFrame() # Tạo DataFrame rỗng để tránh lỗi nếu không đọc được\n",
    "\n",
    "# Đọc file dữ liệu hành vi bất thường (pet_anomalies.csv)\n",
    "# Lưu ý: Nếu bạn dùng .coalesce(1).write.csv(), thì file CSV thực tế nằm bên trong thư mục 'pet_anomalies'\n",
    "# và có tên dạng 'part-00000-xxxx.csv'. Bạn cần tìm tên file chính xác.\n",
    "# Cách tốt nhất là list nội dung thư mục 'pet_anomalies' để tìm file\n",
    "import os\n",
    "anomalies_dir = './pet_anomalies/'\n",
    "anomalies_file_path = None\n",
    "if os.path.exists(anomalies_dir):\n",
    "    for f in os.listdir(anomalies_dir):\n",
    "        if f.startswith('part-') and f.endswith('.csv'):\n",
    "            anomalies_file_path = os.path.join(anomalies_dir, f)\n",
    "            break\n",
    "if anomalies_file_path:\n",
    "    try:\n",
    "        df_anomalies_local = pd.read_csv(anomalies_file_path)\n",
    "        print(\"\\nĐã đọc thành công df_anomalies_local.\")\n",
    "        print(\"5 dòng đầu tiên của df_anomalies_local:\")\n",
    "        print(df_anomalies_local.head())\n",
    "        print(\"\\nThông tin về các cột và kiểu dữ liệu:\")\n",
    "        df_anomalies_local.info()\n",
    "    except Exception as e:\n",
    "        print(f\"Lỗi khi đọc pet_anomalies.csv: {e}\")\n",
    "        df_anomalies_local = pd.DataFrame()\n",
    "else:\n",
    "    print(f\"\\nKhông tìm thấy file CSV trong thư mục {anomalies_dir}. Đảm bảo bạn đã tải đúng.\")\n",
    "    df_anomalies_local = pd.DataFrame()\n",
    "\n",
    "# --- Bước 2: Chuẩn bị dữ liệu nếu cần ---\n",
    "# Chuyển đổi cột ngày tháng sang định dạng datetime để dễ xử lý biểu đồ thời gian\n",
    "if not df_merged_local.empty and 'date' in df_merged_local.columns:\n",
    "    df_merged_local['date'] = pd.to_datetime(df_merged_local['date'], errors='coerce')\n",
    "    df_merged_local.dropna(subset=['date'], inplace=True) # Loại bỏ các dòng có ngày không hợp lệ\n",
    "    print(\"\\nĐã chuyển đổi cột 'date' sang định dạng datetime.\")"
   ]
  },
  {
   "cell_type": "code",
   "execution_count": null,
   "id": "943cd8ca-68a3-447c-94e2-6d8915711221",
   "metadata": {},
   "outputs": [],
   "source": []
  },
  {
   "cell_type": "code",
   "execution_count": null,
   "id": "dca88545-6c9c-4464-931f-5ebee2dec8d2",
   "metadata": {},
   "outputs": [],
   "source": []
  },
  {
   "cell_type": "code",
   "execution_count": null,
   "id": "3f187487-6464-470a-a892-851b6c4f43a8",
   "metadata": {},
   "outputs": [],
   "source": []
  }
 ],
 "metadata": {
  "kernelspec": {
   "display_name": "Python 3 (ipykernel)",
   "language": "python",
   "name": "python3"
  },
  "language_info": {
   "codemirror_mode": {
    "name": "ipython",
    "version": 3
   },
   "file_extension": ".py",
   "mimetype": "text/x-python",
   "name": "python",
   "nbconvert_exporter": "python",
   "pygments_lexer": "ipython3",
   "version": "3.10.12"
  }
 },
 "nbformat": 4,
 "nbformat_minor": 5
}
