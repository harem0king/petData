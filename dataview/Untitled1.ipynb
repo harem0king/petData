{
 "cells": [
  {
   "cell_type": "code",
   "execution_count": 2,
   "id": "f14dbd91-4232-4fd0-b897-3d5911897ba8",
   "metadata": {},
   "outputs": [
    {
     "ename": "ModuleNotFoundError",
     "evalue": "No module named 'findspark'",
     "output_type": "error",
     "traceback": [
      "\u001b[0;31m---------------------------------------------------------------------------\u001b[0m",
      "\u001b[0;31mModuleNotFoundError\u001b[0m                       Traceback (most recent call last)",
      "Cell \u001b[0;32mIn[2], line 1\u001b[0m\n\u001b[0;32m----> 1\u001b[0m \u001b[38;5;28;01mimport\u001b[39;00m\u001b[38;5;250m \u001b[39m\u001b[38;5;21;01mfindspark\u001b[39;00m\n\u001b[1;32m      2\u001b[0m \u001b[38;5;66;03m# Dòng này giúp Jupyter tìm thấy cài đặt Spark của bạn trên hệ thống\u001b[39;00m\n\u001b[1;32m      3\u001b[0m findspark\u001b[38;5;241m.\u001b[39minit()\n",
      "\u001b[0;31mModuleNotFoundError\u001b[0m: No module named 'findspark'"
     ]
    }
   ],
   "source": [
    "import findspark\n",
    "# Dòng này giúp Jupyter tìm thấy cài đặt Spark của bạn trên hệ thống\n",
    "findspark.init()\n",
    "\n",
    "# Import các thư viện PySpark cần thiết\n",
    "from pyspark.sql import SparkSession\n",
    "from pyspark.sql.functions import col, to_timestamp\n",
    "\n",
    "# Import các thư viện Python để xử lý dữ liệu và vẽ biểu đồ\n",
    "import pandas as pd\n",
    "import matplotlib.pyplot as plt\n",
    "import seaborn as sns\n",
    "\n",
    "# Khởi tạo SparkSession\n",
    "# appName: Tên của ứng dụng Spark của bạn\n",
    "# getOrCreate(): Nếu đã có SparkSession đang chạy, nó sẽ sử dụng lại. Nếu không, nó sẽ tạo mới.\n",
    "spark = SparkSession.builder \\\n",
    "    .appName(\"PetHealthAnalysisViz\") \\\n",
    "    .getOrCreate()\n",
    "\n",
    "print(\"SparkSession đã được khởi tạo thành công trong Jupyter Notebook!\")\n",
    "print(\"Kiểm tra xem các thư viện Matplotlib, Seaborn, Pandas đã sẵn sàng.\")"
   ]
  },
  {
   "cell_type": "code",
   "execution_count": null,
   "id": "64ef5304-197e-4968-b3c1-4d1adb546ed0",
   "metadata": {},
   "outputs": [],
   "source": []
  }
 ],
 "metadata": {
  "kernelspec": {
   "display_name": "Python 3 (ipykernel)",
   "language": "python",
   "name": "python3"
  },
  "language_info": {
   "codemirror_mode": {
    "name": "ipython",
    "version": 3
   },
   "file_extension": ".py",
   "mimetype": "text/x-python",
   "name": "python",
   "nbconvert_exporter": "python",
   "pygments_lexer": "ipython3",
   "version": "3.10.12"
  }
 },
 "nbformat": 4,
 "nbformat_minor": 5
}
